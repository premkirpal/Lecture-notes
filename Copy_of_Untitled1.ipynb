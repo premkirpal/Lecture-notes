{
  "nbformat": 4,
  "nbformat_minor": 0,
  "metadata": {
    "colab": {
      "name": "Copy of Untitled1.ipynb",
      "provenance": [],
      "collapsed_sections": [],
      "authorship_tag": "ABX9TyOXC1Yz6WtGPsbA0eqY2Vb+",
      "include_colab_link": true
    },
    "kernelspec": {
      "name": "python3",
      "display_name": "Python 3"
    },
    "language_info": {
      "name": "python"
    }
  },
  "cells": [
    {
      "cell_type": "markdown",
      "metadata": {
        "id": "view-in-github",
        "colab_type": "text"
      },
      "source": [
        "<a href=\"https://colab.research.google.com/github/premkirpal/Lecture-notes/blob/main/Copy_of_Untitled1.ipynb\" target=\"_parent\"><img src=\"https://colab.research.google.com/assets/colab-badge.svg\" alt=\"Open In Colab\"/></a>"
      ]
    },
    {
      "cell_type": "code",
      "execution_count": null,
      "metadata": {
        "colab": {
          "base_uri": "https://localhost:8080/"
        },
        "id": "z61DoiVfQ1za",
        "outputId": "0f813bf7-3d7a-464f-b15c-f31b5e70e126"
      },
      "outputs": [
        {
          "output_type": "stream",
          "name": "stdout",
          "text": [
            "5 is in the range between 2 and 7\n",
            "8 is outside the range\n"
          ]
        }
      ],
      "source": [
        "### EECS 1541 LAB 5\n",
        "### PREMENDRA KIRPAL\n",
        "### 212828026\n",
        "\n",
        "\n",
        "####\n",
        "#### QUESTION 1\n",
        "\n",
        "def range_check(a,b,c):\n",
        "  if a>b and c>a:\n",
        "    print(a,'is in the range between',b,'and',c)\n",
        "  elif a>c:\n",
        "    print(a,'is outside the range')\n",
        "  elif a<b:\n",
        "    print(a,'is outside the range')\n",
        "\n",
        "\n",
        "range_check(5,2,7)\n",
        "\n",
        "range_check(8,2,7)"
      ]
    },
    {
      "cell_type": "code",
      "source": [
        "### QUESTION 2A #### \n",
        "####################\n",
        "\n",
        "\n",
        "def factorial(x):\n",
        "\n",
        "  if x ==0:\n",
        "    return 1 \n",
        "  elif x<0:\n",
        "    return 1\n",
        "  else:\n",
        "    product=1\n",
        "    for i in range(x):\n",
        "      product=product*(i+1)\n",
        "    return product\n",
        "factorial(25)"
      ],
      "metadata": {
        "colab": {
          "base_uri": "https://localhost:8080/"
        },
        "id": "sTRawzXhSW6X",
        "outputId": "1c03fca8-4205-4a67-e715-f0549e560ba6"
      },
      "execution_count": null,
      "outputs": [
        {
          "output_type": "execute_result",
          "data": {
            "text/plain": [
              "15511210043330985984000000"
            ]
          },
          "metadata": {},
          "execution_count": 23
        }
      ]
    },
    {
      "cell_type": "code",
      "source": [
        "### QUESTION 2B\n",
        "\n",
        "import numpy as np\n",
        "\n",
        "V=[]\n",
        "def compute_e(b):\n",
        "  for i in range(b+1):\n",
        "    V[i]=i*(1/factorial(i))\n",
        "    sum=np.sum(V)\n",
        "    return sum\n",
        "compute_e(5)"
      ],
      "metadata": {
        "colab": {
          "base_uri": "https://localhost:8080/",
          "height": 338
        },
        "id": "HXHSqkkbTGWA",
        "outputId": "e1d232e5-7282-4064-84a5-df36f22cf815"
      },
      "execution_count": null,
      "outputs": [
        {
          "output_type": "error",
          "ename": "IndexError",
          "evalue": "ignored",
          "traceback": [
            "\u001b[0;31m---------------------------------------------------------------------------\u001b[0m",
            "\u001b[0;31mIndexError\u001b[0m                                Traceback (most recent call last)",
            "\u001b[0;32m<ipython-input-76-d3bc3beba6f7>\u001b[0m in \u001b[0;36m<module>\u001b[0;34m()\u001b[0m\n\u001b[1;32m      9\u001b[0m     \u001b[0msum\u001b[0m\u001b[0;34m=\u001b[0m\u001b[0mnp\u001b[0m\u001b[0;34m.\u001b[0m\u001b[0msum\u001b[0m\u001b[0;34m(\u001b[0m\u001b[0mV\u001b[0m\u001b[0;34m)\u001b[0m\u001b[0;34m\u001b[0m\u001b[0;34m\u001b[0m\u001b[0m\n\u001b[1;32m     10\u001b[0m     \u001b[0;32mreturn\u001b[0m \u001b[0msum\u001b[0m\u001b[0;34m\u001b[0m\u001b[0;34m\u001b[0m\u001b[0m\n\u001b[0;32m---> 11\u001b[0;31m \u001b[0mcompute_e\u001b[0m\u001b[0;34m(\u001b[0m\u001b[0;36m5\u001b[0m\u001b[0;34m)\u001b[0m\u001b[0;34m\u001b[0m\u001b[0;34m\u001b[0m\u001b[0m\n\u001b[0m",
            "\u001b[0;32m<ipython-input-76-d3bc3beba6f7>\u001b[0m in \u001b[0;36mcompute_e\u001b[0;34m(b)\u001b[0m\n\u001b[1;32m      6\u001b[0m \u001b[0;32mdef\u001b[0m \u001b[0mcompute_e\u001b[0m\u001b[0;34m(\u001b[0m\u001b[0mb\u001b[0m\u001b[0;34m)\u001b[0m\u001b[0;34m:\u001b[0m\u001b[0;34m\u001b[0m\u001b[0;34m\u001b[0m\u001b[0m\n\u001b[1;32m      7\u001b[0m   \u001b[0;32mfor\u001b[0m \u001b[0mi\u001b[0m \u001b[0;32min\u001b[0m \u001b[0mrange\u001b[0m\u001b[0;34m(\u001b[0m\u001b[0mb\u001b[0m\u001b[0;34m+\u001b[0m\u001b[0;36m1\u001b[0m\u001b[0;34m)\u001b[0m\u001b[0;34m:\u001b[0m\u001b[0;34m\u001b[0m\u001b[0;34m\u001b[0m\u001b[0m\n\u001b[0;32m----> 8\u001b[0;31m     \u001b[0mV\u001b[0m\u001b[0;34m[\u001b[0m\u001b[0mi\u001b[0m\u001b[0;34m]\u001b[0m\u001b[0;34m=\u001b[0m\u001b[0mi\u001b[0m\u001b[0;34m*\u001b[0m\u001b[0;34m(\u001b[0m\u001b[0;36m1\u001b[0m\u001b[0;34m/\u001b[0m\u001b[0mfactorial\u001b[0m\u001b[0;34m(\u001b[0m\u001b[0mi\u001b[0m\u001b[0;34m)\u001b[0m\u001b[0;34m)\u001b[0m\u001b[0;34m\u001b[0m\u001b[0;34m\u001b[0m\u001b[0m\n\u001b[0m\u001b[1;32m      9\u001b[0m     \u001b[0msum\u001b[0m\u001b[0;34m=\u001b[0m\u001b[0mnp\u001b[0m\u001b[0;34m.\u001b[0m\u001b[0msum\u001b[0m\u001b[0;34m(\u001b[0m\u001b[0mV\u001b[0m\u001b[0;34m)\u001b[0m\u001b[0;34m\u001b[0m\u001b[0;34m\u001b[0m\u001b[0m\n\u001b[1;32m     10\u001b[0m     \u001b[0;32mreturn\u001b[0m \u001b[0msum\u001b[0m\u001b[0;34m\u001b[0m\u001b[0;34m\u001b[0m\u001b[0m\n",
            "\u001b[0;31mIndexError\u001b[0m: list assignment index out of range"
          ]
        }
      ]
    },
    {
      "cell_type": "code",
      "source": [
        "### QUESTION 3A\n",
        "def F(D):     #### RETURNS FARENHEIT FROM CELCIUS\n",
        "  return 1.8*D +32\n",
        "\n",
        "\n",
        "def K(D):\n",
        "  return D+273.15   ##### RETURNS KELVIN FROM CELCIUS\n",
        "\n",
        "\n",
        "def CF(F): ### RETURNS CELCIUS FROM FARENHEIT\n",
        "  return (F-32)*(5/9)\n",
        "\n",
        "\n",
        "def CK(K): ### RETURN CELCIUS FROM KELVIN\n",
        "  return K-273.15 \n",
        "\n",
        "\n",
        "def FK(K):   ### RETURN FARENHEIT FROM KELVIN ###\n",
        "  return 9/5*(K-273.15)+32\n",
        "\n",
        "def KF(F): ## RETURN KELVIN FROM FARENHEIT ####\n",
        "  return (32-F)*(0.9)+273.15\n",
        "print('C or c for temperature in degrees Celcius')\n",
        "print('F or f for temperature in degrees Fahrenheit')\n",
        "print('K or k for temperature in degrees kelvin')\n",
        "unit=[input('please enter what temperature unit')]\n",
        "degree=int(input('what is the number of degrees'))\n",
        "if \"C\" in unit:\n",
        "  print('the temperature in fahrenheit is',F(degree))\n",
        "  print('the temperature in kelvin is', K(degree))\n",
        "elif \"F\" in unit:\n",
        "  print('the temperature in celcius is', CF(degree))\n",
        "  print('the temperature in kelvin is', CK(degree))\n",
        "elif \"K\" in unit:\n",
        "  print('the temperature in farenheit is', KF(degree))\n",
        "  print('the temperature in celcius is', CK(degree))\n",
        "elif \"c\" in unit:\n",
        "  print('the temperature in fahrenheit is',F(degree))\n",
        "  print('the temperature in kelvin is', K(degree))\n",
        "elif \"f\" in unit:\n",
        "  print('the temperature in celcius is', CF(degree))\n",
        "  print('the temperature in kelvin is', CK(degree))\n",
        "elif \"k\" in unit:\n",
        "  print('the temperature in farenheit is', KF(degree))\n",
        "  print('the temperature in celcius is', CK(degree))"
      ],
      "metadata": {
        "colab": {
          "base_uri": "https://localhost:8080/"
        },
        "id": "orbVapXPVJ2Q",
        "outputId": "40484127-9913-42f9-b13c-ec516e0f3d85"
      },
      "execution_count": null,
      "outputs": [
        {
          "output_type": "stream",
          "name": "stdout",
          "text": [
            "C for temperature in degrees Celcius\n",
            "F for temperature in degrees Fahrenheit\n",
            "K for temperature in degrees kelvin\n",
            "please enter what temperature unitc\n",
            "what is the number of degrees150\n",
            "the temperature in fahrenheit is 302.0\n",
            "the temperature in kelvin is 423.15\n"
          ]
        }
      ]
    },
    {
      "cell_type": "code",
      "source": [
        "####### 3B ######## MODIFIED PART 3A to include lower case letters"
      ],
      "metadata": {
        "id": "jRR_71axZdiY"
      },
      "execution_count": null,
      "outputs": []
    }
  ]
}