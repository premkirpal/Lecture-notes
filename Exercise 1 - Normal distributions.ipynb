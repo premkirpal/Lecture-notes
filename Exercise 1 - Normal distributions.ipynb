{
  "cells": [
    {
      "cell_type": "markdown",
      "metadata": {
        "id": "c-9v34SSrWtT"
      },
      "source": [
        "__PREMENDRA KIRPAL__\n",
        "<br>\n",
        "Date: Jan. 12, 2021\n",
        "<br>\n",
        "PHYS 2030 W22"
      ]
    },
    {
      "cell_type": "markdown",
      "metadata": {
        "id": "S9oj7S2UrWtX"
      },
      "source": [
        "# <center><font color=#46769B>Exercise 1: Error propagation via random sampling</font></center>\n",
        "\n",
        "## <font color=#46769B>Introduction:</font>\n",
        "\n",
        "Our goals for this notebook are:\n",
        "- Practice with sampling from normal distributions.\n",
        "- Practice some basics of using `numpy` and `matplotlib.pyplot`.\n",
        "- Learn a new technique for propagation of errors.\n",
        "\n",
        "Required reading:\n",
        "- *Lesson 1: Normal distributions*\n",
        "\n",
        "Guidelines: \n",
        "- You are allowed to use resources such as websites or textbooks if you need help figuring things out. \n",
        "- You are *not allowed* to work with any collaborators on this assignment, including your peers or tutoring services.\n",
        "\n",
        "By submitting this assignment, you acknowledge: \n",
        "- Any code written here is the result of your own work and is written by you.\n",
        "- Any information sources (e.g., websites) used outside of the course material will be *cited* (provide URLs). "
      ]
    },
    {
      "cell_type": "markdown",
      "metadata": {
        "id": "R50u9hicrWtY"
      },
      "source": [
        "## <font color=#46769B>Error propagation:</font>\n",
        "\n",
        "In lab courses, it is standard practice to do error propagation. For example, suppose you have two measured quantities $A,B$. That is, you have their mean values $\\langle A \\rangle$, $\\langle B\\rangle$, and their uncertainties $\\Delta A,\\Delta B$. \n",
        "Now suppose you want to calculate the mean and error for a new quantity $C = f(A,B)$ that is a function of $A,B$. What do you do?\n",
        "- Take the mean to be $\\langle C \\rangle = f(\\langle A \\rangle, \\langle B \\rangle)$. But you may wonder: is this an approximation or is it always true? \n",
        "- Calculate the error $\\Delta C$ using the rules for error propagation. How straightforward this is depends on how complex $f$ is (and how well one remembers the rules).\n",
        "\n",
        "Random sampling is another way to approach this problem. There is just one procedure to remember.\n",
        "- Generate random samples for $A$ and $B$. That is, you generate a list of $N$ values for each quantity<font color=red>$^1$</font>\n",
        "$$\\left(A_0, A_1, ..., A_{N-1}\\right) \\, ,  \\qquad \\left(B_0, B_1, ..., B_{N-1}\\right)\\, .$$\n",
        "- For every pair $A_i, B_i$, compute $C_i = f(A_i, B_i)$ to generate samples for $C$:\n",
        "$$\\left(C_0, C_1, ..., C_{N-1}\\right)\\, .$$\n",
        "- Using your samples for $C$, calculate the mean value $\\langle C \\rangle$ and standard deviation for $\\Delta C$.\n",
        "\n",
        "There are two things to keep in mind:\n",
        "- $N$ must be large enough so that your values for $\\langle C \\rangle$ and $\\Delta C$ converge, i.e., you get the same result (up to significant figures) for multiple simulations.\n",
        "- How you sample quantities $A,B$ is up to you. A normal distribution is typically *default* assumption for how to sample, especially if the errors quoted for $A,B$ are *random* or *statitistical* errors.<font color=red>$^2$</font> But you can sample in a different way if you have more information about the problem, or if you want to include systematic errors (we will see an example below).\n",
        "\n",
        "### <font color=#46769B>Footnotes:</font>\n",
        "\n",
        "<font color=red>$^1$</font> Note since Python counting starts at zero, I will follow the same numbering conventions though it looks a bit messier.\n",
        "\n",
        "<font color=red>$^2$</font> *Random* errors are due to the fact that repeated measurements will not give exactly the same results each time, due to unpredictable differences in the measurement setup or observer. This is why one performs multiple measurements and averages over them. For example, you measure a length with a ruler and get ten slightly different numbers each time. In contrast, *systematic* errors are errors that are the same for all measurements. For example, suppose your ruler is of poor quality and all lengths skewed too short by 5\\%.\n"
      ]
    },
    {
      "cell_type": "markdown",
      "metadata": {
        "id": "rssHKA9BrWta"
      },
      "source": [
        "## <font color=#46769B>Part 1: Pendulum</font>\n",
        "\n",
        "The standard formula for the oscillation period of a pendulum is\n",
        "$$T = 2\\pi \\sqrt{L/g}$$\n",
        "where $g$ is the gravitational acceleration and $L$ is the length of the pendulum. Suppose we have measured the period and length of the pendulum to be:\n",
        "$$T = 1.835 \\pm 0.005 \\; {\\rm s} \\, , \\qquad L = 0.855 \\pm 0.002 \\; {\\rm m} \\, .$$\n",
        "\n",
        "### <font color=#46769B>Part (1a)</font>\n",
        "Using random sampling for $T$ and $L$, determine $g$, with a sample size of $N=100$.\n",
        "- Assume the errors quoted for $T$ and $L$ are random errors and generate samples using a normal distribution.\n",
        "- Determine both the mean $\\langle g \\rangle$ and uncertainty $\\Delta g$. Write *your own* code for calculating the mean and standard deviations for your samples for $g$ and verify that it agrees with what you get using `numpy.mean` and `numpy.std`.\n",
        "- Plot a histogram for your samples for $g$, choosing a suitable number of histogram bins.\n",
        "\n",
        "### <font color=#46769B>Part (2b)</font>\n",
        "- Repeat part (a) for a larger value of $N$ where your results have converged.\n",
        "- Compare your histogram for $g$ to a normal distribution of mean $\\mu=\\langle g \\rangle$ and standard deviation $\\sigma = \\Delta g$. (Make a plot of the normal distribution on top of the histogram. Be sure to normalize your histogram and choose a suitable number of bins.)"
      ]
    },
    {
      "cell_type": "code",
      "source": [
        "# Your answer to exercise 1 here\n",
        "import numpy as np\n",
        "import matplotlib.pyplot as plt\n",
        "#1a mu-mean , sigma- standard deviation\n",
        "muT=1.835\n",
        "muL=0.855\n",
        "sigmaT=0.005\n",
        "sigmaL=0.002\n",
        "N=100\n",
        "xT=np.random.normal(muT,sigmaT,N)\n",
        "yT=1/np.sqrt(2*np.pi*sigmaT**2)*np.exp(-0.5*(xT-muT)**2/sigmaT**2)\n",
        "xL=np.random.normal(muL,sigmaL,N)\n",
        "yL=1/np.sqrt(2*np.pi*sigmaL**2)*np.exp(-0.5*(xL-muL)**2/sigmaL**2)\n",
        "plt.figure(1)\n",
        "plt.scatter(xT,yT)\n",
        "plt.figure(2)\n",
        "plt.scatter(xL,yL)\n",
        "\n",
        "g=(4*np.pi**2)/xT*(xL)\n",
        "mu_g=np.sum(g)/N\n",
        "sigma_g=np.sqrt((1/N)*(np.sum(g-mu_g)**2))\n",
        "np.mean(g)==mu_g\n",
        "np.std(g)==sigma_g\n",
        "plt.figure(3)\n",
        "plt.hist(g)\n"
      ],
      "metadata": {
        "colab": {
          "base_uri": "https://localhost:8080/",
          "height": 853
        },
        "id": "QKKer2yd-saw",
        "outputId": "edb675d4-e8d8-4a8d-db73-48bf045449f0"
      },
      "execution_count": null,
      "outputs": [
        {
          "output_type": "execute_result",
          "data": {
            "text/plain": [
              "(array([ 1.,  1.,  6., 11., 16., 23., 21., 11.,  9.,  1.]),\n",
              " array([18.18043491, 18.21806764, 18.25570036, 18.29333309, 18.33096582,\n",
              "        18.36859855, 18.40623128, 18.44386401, 18.48149674, 18.51912947,\n",
              "        18.5567622 ]),\n",
              " <a list of 10 Patch objects>)"
            ]
          },
          "metadata": {},
          "execution_count": 25
        },
        {
          "output_type": "display_data",
          "data": {
            "image/png": "[encoded data removed]",
            "text/plain": [
              "<Figure size 432x288 with 1 Axes>"
            ]
          },
          "metadata": {
            "needs_background": "light"
          }
        },
        {
          "output_type": "display_data",
          "data": {
            "image/png": "[encoded data removed]",
            "text/plain": [
              "<Figure size 432x288 with 1 Axes>"
            ]
          },
          "metadata": {
            "needs_background": "light"
          }
        },
        {
          "output_type": "display_data",
          "data": {
            "image/png": "[encoded data removed]",
            "text/plain": [
              "<Figure size 432x288 with 1 Axes>"
            ]
          },
          "metadata": {
            "needs_background": "light"
          }
        }
      ]
    },
    {
      "cell_type": "markdown",
      "metadata": {
        "id": "ucSLh84XrWtc"
      },
      "source": [
        "## <font color=#46769B>Part 2: Pendulum continued</font>\n",
        "\n",
        "Here we will consider the same example with an extra source of systematic error.\n",
        "\n",
        "Suppose we learn that the timing setup used for measuring the period $T$ may suffer from a uniform time delay $\\delta T$ from starting and stopping. That is, oscillation formula becomes\n",
        "$$T_0 = 2\\pi \\sqrt{L/g}$$\n",
        "where $T_0 = T + \\delta T$ is the *true* oscillation period and $T$ is the quantity we measure (given above). \n",
        "\n",
        "Suppose we know that $\\delta T$ is between $0-0.05$ s, but is otherwise unknown and all values in this range are equally likely. It makes sense to sample $\\delta T$ from a uniform distribution in the range $[0,0.05]$. (That is, you will sample $T_0$ as the *sum* of a normally-distributed variable $T$ and a uniformly sampled variable $\\delta T$.)\n",
        "\n",
        "- Using the values quoted above for $T$ and $L$, and including $\\delta T$ in your analysis, determine the mean value and uncertainty for $g$ (choose $N$ large enough so that these values have converged).\n",
        "\n",
        "- Compare your histogram for $g$ to a normal distribution of mean $\\mu=\\langle g \\rangle$ and standard deviation $\\sigma = \\Delta g$. (Make a plot of the normal distribution on top of the histogram. Be sure to normalize your histogram and choose a suitable number of bins.)"
      ]
    },
    {
      "cell_type": "code",
      "execution_count": null,
      "metadata": {
        "id": "1E2PwuqarWtc"
      },
      "outputs": [],
      "source": [
        "# Your answer to exercise 2 here\n"
      ]
    }
  ],
  "metadata": {
    "kernelspec": {
      "display_name": "Python 3",
      "language": "python",
      "name": "python3"
    },
    "language_info": {
      "codemirror_mode": {
        "name": "ipython",
        "version": 3
      },
      "file_extension": ".py",
      "mimetype": "text/x-python",
      "name": "python",
      "nbconvert_exporter": "python",
      "pygments_lexer": "ipython3",
      "version": "3.7.6"
    },
    "colab": {
      "name": "Exercise 1 - Normal distributions.ipynb",
      "provenance": []
    }
  },
  "nbformat": 4,
  "nbformat_minor": 0
}