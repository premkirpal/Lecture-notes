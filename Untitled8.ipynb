{
  "nbformat": 4,
  "nbformat_minor": 0,
  "metadata": {
    "colab": {
      "name": "Untitled8.ipynb",
      "provenance": [],
      "authorship_tag": "ABX9TyNBGBMiKR7vVkXvLkqDGizg",
      "include_colab_link": true
    },
    "kernelspec": {
      "name": "python3",
      "display_name": "Python 3"
    },
    "language_info": {
      "name": "python"
    }
  },
  "cells": [
    {
      "cell_type": "markdown",
      "metadata": {
        "id": "view-in-github",
        "colab_type": "text"
      },
      "source": [
        "<a href=\"https://colab.research.google.com/github/premkirpal/Lecture-notes/blob/main/Untitled8.ipynb\" target=\"_parent\"><img src=\"https://colab.research.google.com/assets/colab-badge.svg\" alt=\"Open In Colab\"/></a>"
      ]
    },
    {
      "cell_type": "markdown",
      "source": [
        "EECS 1541 ASSIGNMENT 2 \n",
        "\n",
        "PREMENDRA KIRPAL\n",
        "\n",
        "212828026\n"
      ],
      "metadata": {
        "id": "QGm_0cME4Zv2"
      }
    },
    {
      "cell_type": "markdown",
      "source": [
        "QUESTION 1"
      ],
      "metadata": {
        "id": "yXGFWg_u4hzu"
      }
    },
    {
      "cell_type": "code",
      "source": [
        "def calcaverage(a,b,c,d,e):\n",
        "    if a > 100 :\n",
        "        print('error')\n",
        "    elif b>100:\n",
        "        print('error')\n",
        "    elif c > 100:\n",
        "        print('error')\n",
        "    elif d > 100 :\n",
        "        print('error')\n",
        "    elif e > 100:\n",
        "        print('error')\n",
        "    elif  a < 0:\n",
        "        print(\"error\")\n",
        "    elif b < 0 : \n",
        "        print('error')\n",
        "    elif c < 0 : \n",
        "        print('error')\n",
        "    elif d < 0 : \n",
        "        print('error')\n",
        "    elif e < 0 :\n",
        "        print('error')\n",
        "    else:\n",
        "        sum=a+b+c+d+e\n",
        "        average=sum/5\n",
        "    return average\n",
        "\n",
        "\n",
        "def determinegrade(score):\n",
        "    if (score > 90) and (score < 100):\n",
        "        print(\"LETTER GRADE : A \")\n",
        "    elif (score > 80) and (score < 90):\n",
        "        print(\"LETTER GRADE : B \")\n",
        "    elif (score > 70) and (score < 80) :\n",
        "        print('LETTER GRADE C')\n",
        "    elif (score > 60) and (score < 70): \n",
        "        print('LETTER GRADE D')\n",
        "    elif (score < 60 ) :\n",
        "        print('LETTER GRADE F')\n",
        "    else:\n",
        "        print('ERROR')\n",
        "        \n",
        "\n",
        "test1=float(input('please enter test score 1:'))\n",
        "test2=float(input('please enter test score 2:'))\n",
        "test3=float(input('please enter test score 3:'))\n",
        "test4=float(input('please enter test score 4:'))\n",
        "test5=float(input('please enter test score 5:'))\n",
        "\n",
        "print('test 1 score',test1, 'Letter grade:', determinegrade(test1))\n",
        "print('test 2score',test2, 'Letter grade:', determinegrade(test2))\n",
        "print('test 3score',test3, 'Letter grade:', determinegrade(test3))\n",
        "print('test 4score',test4, 'Letter grade:', determinegrade(test4))\n",
        "print('test 5score',test5,'Letter grade:', determinegrade(test5))\n",
        "print(\"AVERAGE SCORE\",calcaverage(test1,test2,test3,test4,test5))\n",
        "\n"
      ],
      "metadata": {
        "id": "J0nZaRSB4lAW"
      },
      "execution_count": null,
      "outputs": []
    },
    {
      "cell_type": "markdown",
      "source": [
        "QUESTION 2 A "
      ],
      "metadata": {
        "id": "Bh4IhZd24nZO"
      }
    },
    {
      "cell_type": "code",
      "source": [
        "def kinetic_energy(m,v):\n",
        "    return 0.5*m*v**2\n",
        "\n",
        "\n",
        "mass=float(input('please enter the mass of the object in kilograms'))\n",
        "velocity=float(input('please enter the velocitiy of the object in meters per second'))\n",
        "\n",
        "print('kinetic energy is',kinetic_energy(mass,velocity))\n"
      ],
      "metadata": {
        "id": "_HooXxYh4nlP"
      },
      "execution_count": null,
      "outputs": []
    },
    {
      "cell_type": "markdown",
      "source": [
        "QUESTION 2 B "
      ],
      "metadata": {
        "id": "vEk3If8Y4vLG"
      }
    },
    {
      "cell_type": "code",
      "source": [
        "def falling_distance(t):\n",
        "    g=9.8\n",
        "    return 0.5*g*t**2\n",
        "\n",
        "for i in range(1,11):\n",
        "    print(i)\n",
        "    print(falling_distance(i))\n",
        "\n",
        "    "
      ],
      "metadata": {
        "colab": {
          "base_uri": "https://localhost:8080/"
        },
        "id": "Wc_cwTAV4vRW",
        "outputId": "14a7cd17-a209-46ad-ce0c-12e6a311e0f0"
      },
      "execution_count": 1,
      "outputs": [
        {
          "output_type": "stream",
          "name": "stdout",
          "text": [
            "1\n",
            "4.9\n",
            "2\n",
            "19.6\n",
            "3\n",
            "44.1\n",
            "4\n",
            "78.4\n",
            "5\n",
            "122.50000000000001\n",
            "6\n",
            "176.4\n",
            "7\n",
            "240.10000000000002\n",
            "8\n",
            "313.6\n",
            "9\n",
            "396.90000000000003\n",
            "10\n",
            "490.00000000000006\n"
          ]
        }
      ]
    },
    {
      "cell_type": "markdown",
      "source": [
        "QUESTION 3 "
      ],
      "metadata": {
        "id": "Ge5cactj431-"
      }
    },
    {
      "cell_type": "code",
      "source": [
        ""
      ],
      "metadata": {
        "id": "xDhYQpZU437Y"
      },
      "execution_count": null,
      "outputs": []
    },
    {
      "cell_type": "markdown",
      "source": [
        "QUESTION 4 "
      ],
      "metadata": {
        "id": "a0rB_G7745xd"
      }
    },
    {
      "cell_type": "code",
      "source": [
        "import math\n",
        "\n",
        "def getNumberOfPermutations(n,k):\n",
        "  return math.factorial(n)/math.factorial((n-k))\n",
        "\n",
        "n=int(input('please enter n'))\n",
        "k=int(input('please enter k'))\n",
        "if k > n:\n",
        "    print('ERROR \\nERROR \\nn must be larger than k')\n",
        "print('The P(n,k) is',getNumberOfPermutations(n,k))\n",
        "\n",
        "\n",
        "\n"
      ],
      "metadata": {
        "colab": {
          "base_uri": "https://localhost:8080/",
          "height": 466
        },
        "id": "MMG5JbuK453O",
        "outputId": "fc8df96b-ca7c-42d1-eb8d-b1423df7688d"
      },
      "execution_count": 12,
      "outputs": [
        {
          "output_type": "stream",
          "name": "stdout",
          "text": [
            "please enter n2\n",
            "please enter k5\n",
            "ERROR \n",
            "ERROR \n",
            "n must be larger than k\n"
          ]
        },
        {
          "output_type": "error",
          "ename": "ValueError",
          "evalue": "ignored",
          "traceback": [
            "\u001b[0;31m---------------------------------------------------------------------------\u001b[0m",
            "\u001b[0;31mValueError\u001b[0m                                Traceback (most recent call last)",
            "\u001b[0;32m<ipython-input-12-d7e474646dcd>\u001b[0m in \u001b[0;36m<module>\u001b[0;34m()\u001b[0m\n\u001b[1;32m      8\u001b[0m \u001b[0;32mif\u001b[0m \u001b[0mk\u001b[0m \u001b[0;34m>\u001b[0m \u001b[0mn\u001b[0m\u001b[0;34m:\u001b[0m\u001b[0;34m\u001b[0m\u001b[0;34m\u001b[0m\u001b[0m\n\u001b[1;32m      9\u001b[0m     \u001b[0mprint\u001b[0m\u001b[0;34m(\u001b[0m\u001b[0;34m'ERROR \\nERROR \\nn must be larger than k'\u001b[0m\u001b[0;34m)\u001b[0m\u001b[0;34m\u001b[0m\u001b[0;34m\u001b[0m\u001b[0m\n\u001b[0;32m---> 10\u001b[0;31m \u001b[0mprint\u001b[0m\u001b[0;34m(\u001b[0m\u001b[0;34m'The P(n,k) is'\u001b[0m\u001b[0;34m,\u001b[0m\u001b[0mgetNumberOfPermutations\u001b[0m\u001b[0;34m(\u001b[0m\u001b[0mn\u001b[0m\u001b[0;34m,\u001b[0m\u001b[0mk\u001b[0m\u001b[0;34m)\u001b[0m\u001b[0;34m)\u001b[0m\u001b[0;34m\u001b[0m\u001b[0;34m\u001b[0m\u001b[0m\n\u001b[0m\u001b[1;32m     11\u001b[0m \u001b[0;34m\u001b[0m\u001b[0m\n\u001b[1;32m     12\u001b[0m \u001b[0;34m\u001b[0m\u001b[0m\n",
            "\u001b[0;32m<ipython-input-12-d7e474646dcd>\u001b[0m in \u001b[0;36mgetNumberOfPermutations\u001b[0;34m(n, k)\u001b[0m\n\u001b[1;32m      2\u001b[0m \u001b[0;34m\u001b[0m\u001b[0m\n\u001b[1;32m      3\u001b[0m \u001b[0;32mdef\u001b[0m \u001b[0mgetNumberOfPermutations\u001b[0m\u001b[0;34m(\u001b[0m\u001b[0mn\u001b[0m\u001b[0;34m,\u001b[0m\u001b[0mk\u001b[0m\u001b[0;34m)\u001b[0m\u001b[0;34m:\u001b[0m\u001b[0;34m\u001b[0m\u001b[0;34m\u001b[0m\u001b[0m\n\u001b[0;32m----> 4\u001b[0;31m   \u001b[0;32mreturn\u001b[0m \u001b[0mmath\u001b[0m\u001b[0;34m.\u001b[0m\u001b[0mfactorial\u001b[0m\u001b[0;34m(\u001b[0m\u001b[0mn\u001b[0m\u001b[0;34m)\u001b[0m\u001b[0;34m/\u001b[0m\u001b[0mmath\u001b[0m\u001b[0;34m.\u001b[0m\u001b[0mfactorial\u001b[0m\u001b[0;34m(\u001b[0m\u001b[0;34m(\u001b[0m\u001b[0mn\u001b[0m\u001b[0;34m-\u001b[0m\u001b[0mk\u001b[0m\u001b[0;34m)\u001b[0m\u001b[0;34m)\u001b[0m\u001b[0;34m\u001b[0m\u001b[0;34m\u001b[0m\u001b[0m\n\u001b[0m\u001b[1;32m      5\u001b[0m \u001b[0;34m\u001b[0m\u001b[0m\n\u001b[1;32m      6\u001b[0m \u001b[0mn\u001b[0m\u001b[0;34m=\u001b[0m\u001b[0mint\u001b[0m\u001b[0;34m(\u001b[0m\u001b[0minput\u001b[0m\u001b[0;34m(\u001b[0m\u001b[0;34m'please enter n'\u001b[0m\u001b[0;34m)\u001b[0m\u001b[0;34m)\u001b[0m\u001b[0;34m\u001b[0m\u001b[0;34m\u001b[0m\u001b[0m\n",
            "\u001b[0;31mValueError\u001b[0m: factorial() not defined for negative values"
          ]
        }
      ]
    },
    {
      "cell_type": "markdown",
      "source": [
        "QUESTION 5 55\n",
        "5"
      ],
      "metadata": {
        "id": "FjK3s-kV459N"
      }
    },
    {
      "cell_type": "code",
      "source": [
        "def Format(second):\n",
        "    mins,sec=divmod(second,60)\n",
        "    hour,mins =divmod(mins,60)\n",
        "    print('the hours, minutes and seconds for total seconds',second,'is', hour,':',mins,':',sec)\n",
        "    \n",
        "Format(159999)\n"
      ],
      "metadata": {
        "id": "BohtQfgK46CO"
      },
      "execution_count": null,
      "outputs": []
    },
    {
      "cell_type": "markdown",
      "source": [
        "QUESTION 6 "
      ],
      "metadata": {
        "id": "q8FzYmrr5A8t"
      }
    },
    {
      "cell_type": "code",
      "source": [
        "import numpy as np\n",
        "\n",
        "\n",
        "for i in range(1):\n",
        "  r=np.random.randint(3,size=1)\n",
        "  choice=[]\n",
        "  choiceuser=[]\n",
        "  if r == 0 :\n",
        "    choice='rock'\n",
        "  elif r == 1 :\n",
        "    choice = 'paper'\n",
        "  elif r == 2 :\n",
        "    choice = 'scissors' \n",
        "  count= True\n",
        "  while count==True:\n",
        "    user=int(input('please choose 1 2 or 3, 1=rock , 2=paper , 3=scissors'))\n",
        "    if user== 1:\n",
        "      choiceuser='rock'\n",
        "    elif user==2:\n",
        "      choiceuser='paper'\n",
        "    elif user == 3:\n",
        "      choiceuser = 'scissors'\n",
        "    print('You have chosen',choiceuser)\n",
        "    print(' the computer has chosen',choice)\n",
        "\n",
        "    if (user ==1) and (r ==1):\n",
        "          print('paper beats rock , computer wins')\n",
        "          count = False\n",
        "    elif (user ==2) and (r == 2) :\n",
        "          print('scissors beats paper, computer wins')\n",
        "          count = False\n",
        "    elif (user == 3 ) and ( r == 0):\n",
        "          print ('rock beats scissors computer wins')\n",
        "          count = False\n",
        "    elif (user == 1) and ( r == 2): \n",
        "          print('rock beats scissors user wins')\n",
        "          count = False\n",
        "    elif (user == 2) and ( r == 0) :\n",
        "          print('paper beats rock, user wins ')\n",
        "          count=False\n",
        "    elif (user == 3) and (r == 1): \n",
        "          print('scissors beats paper, user wins')\n",
        "          count=False"
      ],
      "metadata": {
        "colab": {
          "base_uri": "https://localhost:8080/"
        },
        "id": "KCW3HKsp5BDW",
        "outputId": "d1b87308-3044-41cb-bc1d-bb0c262dab19"
      },
      "execution_count": 2,
      "outputs": [
        {
          "output_type": "stream",
          "name": "stdout",
          "text": [
            "please choose 1 2 or 3, 1=rock , 2=paper , 3=scissors1\n",
            "You have chosen rock\n",
            " the computer has chosen scissors\n",
            "rock beats scissors user wins\n"
          ]
        }
      ]
    },
    {
      "cell_type": "code",
      "source": [
        ""
      ],
      "metadata": {
        "id": "VOuvMr4L5E_t"
      },
      "execution_count": null,
      "outputs": []
    }
  ]
}