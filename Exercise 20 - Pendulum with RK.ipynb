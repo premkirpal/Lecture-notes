{
  "cells": [
    {
      "cell_type": "markdown",
      "metadata": {
        "id": "m1OPv9kbxqR4"
      },
      "source": [
        "__Your name here__\n",
        "<br>\n",
        "Date: Mar. 4, 2022\n",
        "<br>\n",
        "PHYS 2030 W22"
      ]
    },
    {
      "cell_type": "markdown",
      "metadata": {
        "id": "7YYLoUfnxqR6"
      },
      "source": [
        "# <center><font color=#46769B>Exercise 20: Pendulum with RK methods</font></center>\n",
        "\n",
        "## <font color=#46769B>Introduction</font>\n",
        "\n",
        "While Euler's method is easy to implement for solving IVPs, but we saw that it had major shortcomings in terms of accuracy, requiring a large number of steps to achieve even a modest accuracy. Higher-order methods can overcome this difficulty, dramatically decreasing the number of steps needed.\n",
        "\n",
        "The goals of this exercise are:\n",
        "- Gain experience with second-order (and higher) methods for solving ODEs\n",
        "\n",
        "Required reading:\n",
        "- *Lesson 10: Second-order methods*\n"
      ]
    },
    {
      "cell_type": "markdown",
      "metadata": {
        "id": "P6W09dX1xqR8"
      },
      "source": [
        "## <font color=#46769B>Exercise</font>\n",
        "\n",
        "In Exercise 18, we considered a pendulum with equation of motion\n",
        "\n",
        "$$\\theta''(t) + \\omega^2 \\sin\\theta(t) = 0 \\, ,$$\n",
        "\n",
        "which was solved numerically using Euler's method.  We will assume $\\omega = 2\\pi$ and an initial condition\n",
        "\n",
        "$$\\theta(0) = \\theta_0 , \\qquad \\theta'(0) = 0 \\, .$$ \n",
        "\n",
        "The goal here to repeat this exercise using higher-order explicit methods (RK2 and RK4).\n",
        "\n",
        "## <font color=#46769B>Part (a)</font>\n",
        "\n",
        "Write three codes:\n",
        "- `midpoint_method(num_steps,theta_0)` that will perform the midpoint method for a given initial condition $\\theta_0$ and $N$ number of steps given by `num_steps`.\n",
        "- `Heun_method(num_steps,theta_0)` that will do the same for Heun's method.\n",
        "- `RK4(num_steps,theta_0)` that will do the same for the (classic) RK4 method.\n",
        "\n",
        "For each, take a fixed interval $[0,5]$ for $t$. Make a plot of $\\theta(t)$ vs $t$ for $N=1000$ steps, with an initial condition $\\theta_0 = 1$."
      ]
    },
    {
      "cell_type": "code",
      "execution_count": 54,
      "metadata": {
        "id": "omENOcYOxqR9",
        "outputId": "bfef4868-c2aa-400d-8237-9c9cde5f1177",
        "colab": {
          "base_uri": "https://localhost:8080/"
        }
      },
      "outputs": [
        {
          "output_type": "stream",
          "name": "stdout",
          "text": [
            "[[1.         1.        ]\n",
            " [0.99458475 1.19689779]\n",
            " [0.98818646 1.3926295 ]\n",
            " ...\n",
            " [1.03950706 0.64969387]\n",
            " [1.03583313 0.85456281]\n",
            " [1.03113578 1.05860545]]\n"
          ]
        }
      ],
      "source": [
        "import numpy as np\n",
        "import matplotlib.pyplot as plt\n",
        "\n",
        "omega = 2*np.pi\n",
        "t0=0\n",
        "tf=5\n",
        "\n",
        "def f(t,y):\n",
        "  y1,y2=y\n",
        "  return np.array([y2,-omega**2*np.sin(y1)])\n",
        "\n",
        "theta0=1\n",
        "y0=np.array([0.01,0])\n",
        "t0=0\n",
        "tf=5\n",
        "N=1000\n",
        "\n",
        "t=np.linspace(t0,tf,N+1)\n",
        "h=t[0]-t[1]\n",
        "y=np.zeros((N+1,2))\n",
        "y[0]=1\n",
        "\n",
        "\n",
        "\n",
        "#### MID POINT METHOD #####\n",
        "\n",
        "for i in range(N):\n",
        "  ti=t[i]\n",
        "  yi=y[i]\n",
        "  y[i+1]=yi+f((ti+h/2),(yi+h/2*f(ti,yi))*h)\n",
        "\n",
        "\n",
        "### HEUNS METHOD\n"
      ]
    },
    {
      "cell_type": "code",
      "source": [
        "### HEUNS METHOD\n",
        "\n",
        "\n",
        "for i in range (N):\n",
        "  ti=t[i]\n",
        "  yi=y[i]\n",
        "  y[i+1]=yi+h*(1/2)*(f(ti,yi))*f(ti+h,yi+h*f(t,yi))\n",
        "\n",
        "\n",
        "print (y)  \n"
      ],
      "metadata": {
        "id": "wb74Xlm30PB9",
        "outputId": "4d637031-6e16-4821-a83f-ac08cb3a970e",
        "colab": {
          "base_uri": "https://localhost:8080/"
        }
      },
      "execution_count": 60,
      "outputs": [
        {
          "output_type": "stream",
          "name": "stdout",
          "text": [
            "[[ 1.00000000e+00  1.00000000e+00]\n",
            " [ 9.97084751e-01 -1.75001969e+00]\n",
            " [ 9.90153660e-01 -4.51402517e+00]\n",
            " ...\n",
            " [-2.03880341e+05 -2.89628855e+02]\n",
            " [-2.04089997e+05 -2.88308483e+02]\n",
            " [-2.04297742e+05 -2.89854338e+02]]\n"
          ]
        }
      ]
    },
    {
      "cell_type": "code",
      "source": [
        "#### RK4 METHOD\n",
        "\n",
        "\n",
        "for i in range (N):\n",
        "  ti=t[i]\n",
        "  yi=y[i]\n",
        "  y[i+1]=yi+h*((1/6)*f(ti,yi)+2*f(ti+(h/2),yi+(h/2)*f(ti,yi))+2*f(ti+(h/2),yi+(h/2)*(f(ti+(h/2),yi+(h/2*f(ti,yi)))))+f(ti+h,yi+h*f(ti,yi)+2*f(ti+(h/2),yi+(h/2)*f(ti,yi))+2*f(ti+(h/2),yi+(h/2)*(f(ti+(h/2),yi+(h/2*f(ti,yi)))))))\n",
        "print(y)"
      ],
      "metadata": {
        "id": "2bCCVZgX18mn",
        "outputId": "2aadd582-e308-4679-822e-271797a65caa",
        "colab": {
          "base_uri": "https://localhost:8080/"
        }
      },
      "execution_count": 64,
      "outputs": [
        {
          "output_type": "stream",
          "name": "stdout",
          "text": [
            "[[1.         1.        ]\n",
            " [1.63496231 1.52969248]\n",
            " [2.38062741 2.54002793]\n",
            " ...\n",
            " [3.04201266 3.27618366]\n",
            " [3.04201266 3.27618366]\n",
            " [3.04201266 3.27618366]]\n"
          ]
        }
      ]
    },
    {
      "cell_type": "markdown",
      "metadata": {
        "id": "RgzrQJCDxqR_"
      },
      "source": [
        "## <font color=#46769B>Part (b)</font>\n",
        "\n",
        "In Exercise 18, Euler's method required about $N \\sim 10^7$ steps to converge for an initial condition $\\theta_0 = 3$, with tolerance settings `atol = rtol = 1e-2`.\n",
        "\n",
        "Using your code from part (a), determine the number of steps $N$ needed for each of the midpoint, Heun, and RK4 methods to converge within the same tolerance.  Make a plot of your final converged results for each method.\n",
        "\n"
      ]
    },
    {
      "cell_type": "code",
      "execution_count": null,
      "metadata": {
        "id": "Xw9j3MkoxqSA"
      },
      "outputs": [],
      "source": [
        "# Your code here"
      ]
    },
    {
      "cell_type": "markdown",
      "metadata": {
        "id": "Lyf0gqX1xqSA"
      },
      "source": [
        "## <font color=#46769B>Part (c)</font>\n",
        "\n",
        "Here we repeat Exercise 18 (c) with our new methods. The goal is to determine numerically $T(\\theta_0)$, that is, how the oscillation period depends on the initial displacement $\\theta$.\n",
        "\n",
        "Write a function `find_period(theta_0)` that will determine the period $T$ for a given initial condition $\\theta_0$, using any *one* of the methods in parts (a) and (b) to solve for $\\theta(t)$. Given your numerical solution for $\\theta(t)$:\n",
        "\n",
        "- Determine $T$ as the distance between two maxima. (In the solutions to Exercise 18, I showed how to determine $T$ as twice the distance between a maximum and minimum. Here I challenge you to *not* copy what I did, but write your own version if you haven't completed this part already.)\n",
        "\n",
        "Next, make a plot of $T$ as a function of $\\theta_0$ for 31 values of $\\theta_0$ in `numpy.linspace(0.1,3.1,31)`.\n",
        "\n",
        "Compare to the analytic approximation\n",
        "\n",
        "$$ T(\\theta_0) = \\frac{2\\pi}{\\omega} \\left( 1 + \\frac{1}{16} \\theta_0^2 + \\frac{11}{3072} \\theta_0^4 + \\mathcal{O}(\\theta_0^6) \\right)$$\n",
        "\n",
        "where the leading $1$ is the small-angle result. Plot this formula on your plot to check that it agrees with your results for small and medium values of $\\theta_0$."
      ]
    },
    {
      "cell_type": "code",
      "execution_count": null,
      "metadata": {
        "id": "EWtQ-O5dxqSB"
      },
      "outputs": [],
      "source": [
        "# Your code here"
      ]
    },
    {
      "cell_type": "code",
      "execution_count": null,
      "metadata": {
        "id": "vHpz61cqxqSB"
      },
      "outputs": [],
      "source": [
        ""
      ]
    }
  ],
  "metadata": {
    "kernelspec": {
      "display_name": "Python 3",
      "language": "python",
      "name": "python3"
    },
    "language_info": {
      "codemirror_mode": {
        "name": "ipython",
        "version": 3
      },
      "file_extension": ".py",
      "mimetype": "text/x-python",
      "name": "python",
      "nbconvert_exporter": "python",
      "pygments_lexer": "ipython3",
      "version": "3.7.6"
    },
    "colab": {
      "name": "Exercise 20 - Pendulum with RK.ipynb",
      "provenance": []
    }
  },
  "nbformat": 4,
  "nbformat_minor": 0
}